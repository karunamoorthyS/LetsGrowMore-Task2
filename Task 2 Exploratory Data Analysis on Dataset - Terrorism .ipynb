{
 "cells": [
  {
   "cell_type": "markdown",
   "metadata": {},
   "source": [
    "# Exploratory Data Analysis on Dataset - Terrorism "
   ]
  },
  {
   "cell_type": "markdown",
   "metadata": {},
   "source": [
    "## Author : karunamoorthy S"
   ]
  },
  {
   "cell_type": "markdown",
   "metadata": {},
   "source": [
    "#### Dataset:https://bit.ly/2TK5Xn5"
   ]
  },
  {
   "cell_type": "markdown",
   "metadata": {},
   "source": [
    "# Importing all the libraries"
   ]
  },
  {
   "cell_type": "code",
   "execution_count": null,
   "metadata": {},
   "outputs": [],
   "source": [
    "import pandas as pd\n",
    "import numpy as np\n",
    "import matplotlib.pyplot as plt\n",
    "import seaborn as sns"
   ]
  },
  {
   "cell_type": "markdown",
   "metadata": {},
   "source": [
    "# Data Pre Processing"
   ]
  },
  {
   "cell_type": "code",
   "execution_count": null,
   "metadata": {},
   "outputs": [],
   "source": [
    "data = pd.read_csv(\"globalterrorismdb_0718dist.csv\",encoding='ISO-8859-1',low_memory=False)\n",
    "data.head()"
   ]
  },
  {
   "cell_type": "code",
   "execution_count": null,
   "metadata": {},
   "outputs": [],
   "source": [
    "data.info()"
   ]
  },
  {
   "cell_type": "markdown",
   "metadata": {},
   "source": [
    "#### There are 135 columns in the data.And we will select only those colums which will be useful in our Analysis"
   ]
  },
  {
   "cell_type": "code",
   "execution_count": null,
   "metadata": {},
   "outputs": [],
   "source": [
    "data.shape"
   ]
  },
  {
   "cell_type": "markdown",
   "metadata": {},
   "source": [
    "#### Gettiing the column names and pick the required columns from the dataset"
   ]
  },
  {
   "cell_type": "code",
   "execution_count": null,
   "metadata": {},
   "outputs": [],
   "source": [
    "for i in data.columns:\n",
    "    print(i,end=\", \")"
   ]
  },
  {
   "cell_type": "markdown",
   "metadata": {},
   "source": [
    "## Rename some columns name which doesnt look righ"
   ]
  },
  {
   "cell_type": "code",
   "execution_count": null,
   "metadata": {},
   "outputs": [],
   "source": [
    "rename_col={'iyear':'Year','imonth':'Month','city':'City','iday':'Day','country_txt':'Country',\n",
    "            'region_txt':'Region','attacktype1_txt':'AttackType', 'target1':'Target','nkill':'Killed',\n",
    "            'nwound':'Wounded','summary':'Summary','gname':'Group','targtype1_txt':'Target_type',\n",
    "            'weaptype1_txt':'Weapon_type','motive':'Motive'}\n",
    "data.rename(rename_col , inplace = True , axis = 1)"
   ]
  },
  {
   "cell_type": "code",
   "execution_count": null,
   "metadata": {},
   "outputs": [],
   "source": [
    "data = data[['Year','Month','Day','Country','Region','City','latitude',\n",
    "             'longitude','AttackType','Killed','Wounded','Target','Group',\n",
    "             'Target_type','Weapon_type']]\n",
    "data.head()"
   ]
  },
  {
   "cell_type": "markdown",
   "metadata": {},
   "source": [
    "### find the missing rows in the columns"
   ]
  },
  {
   "cell_type": "code",
   "execution_count": null,
   "metadata": {},
   "outputs": [],
   "source": [
    "data.isnull().sum()"
   ]
  },
  {
   "cell_type": "code",
   "execution_count": null,
   "metadata": {},
   "outputs": [],
   "source": [
    "##Remove the null rows\n",
    "data.dropna(inplace=True, axis=0)"
   ]
  },
  {
   "cell_type": "code",
   "execution_count": null,
   "metadata": {},
   "outputs": [],
   "source": [
    "#data.isnull().sum()"
   ]
  },
  {
   "cell_type": "markdown",
   "metadata": {},
   "source": [
    "# Exploratory Data Analysis"
   ]
  },
  {
   "cell_type": "code",
   "execution_count": null,
   "metadata": {},
   "outputs": [],
   "source": [
    "data.groupby(\"Country\")[\"Killed\"].sum().sort_values(ascending = False).head(10)"
   ]
  },
  {
   "cell_type": "markdown",
   "metadata": {},
   "source": [
    "# checking country wise maximum killed"
   ]
  },
  {
   "cell_type": "code",
   "execution_count": null,
   "metadata": {},
   "outputs": [],
   "source": [
    "import plotly.express as px\n",
    "\n",
    "top_killed_country = data.groupby(\"Country\")[\"Killed\"].sum().sort_values(ascending = False).to_frame().reset_index().head(15)\n",
    "\n",
    "px.bar(data_frame=top_killed_country,x = 'Country',y = 'Killed',color='Killed',template='plotly_dark')"
   ]
  },
  {
   "cell_type": "markdown",
   "metadata": {},
   "source": [
    "# checking city wise maximum killed"
   ]
  },
  {
   "cell_type": "code",
   "execution_count": null,
   "metadata": {},
   "outputs": [],
   "source": [
    "top_killed_city = data.groupby(\"City\")[\"Killed\"].sum().sort_values(ascending = False).to_frame().reset_index().head(15)\n",
    "\n",
    "px.bar(data_frame=top_killed_city,x = 'City',y = 'Killed',color='Killed',template='simple_white')"
   ]
  },
  {
   "cell_type": "markdown",
   "metadata": {},
   "source": [
    "#### Baghdad is the city of Iran , Mosul is also the city of Iran and Mogadishu is the city of Somalia.\n",
    "These are top 3 cities people killed by terrorism"
   ]
  },
  {
   "cell_type": "markdown",
   "metadata": {},
   "source": [
    "#### Trying to find The groups that committing terrorism in these Countries"
   ]
  },
  {
   "cell_type": "code",
   "execution_count": null,
   "metadata": {},
   "outputs": [],
   "source": [
    "data[(data[\"Country\"] == 'Iran') | (data[\"Country\"] == 'Somalia')][\"Group\"].value_counts().head()"
   ]
  },
  {
   "cell_type": "markdown",
   "metadata": {},
   "source": [
    "#### The group that is carrying out the most terrorism in Somalia is AL- Shabaab and Mujahideen Youth Movement (MYM) Group"
   ]
  },
  {
   "cell_type": "markdown",
   "metadata": {},
   "source": [
    "#### The group that is carrying out the most terrorism in Iran is Mujahedin-e Khalq (MEK) and Arab Separatists Group"
   ]
  },
  {
   "cell_type": "markdown",
   "metadata": {},
   "source": [
    "## Number Of Terrorist Activities Each Year"
   ]
  },
  {
   "cell_type": "code",
   "execution_count": null,
   "metadata": {},
   "outputs": [],
   "source": [
    "top_year = data[\"Year\"].value_counts().sort_index()\n",
    "top_year.plot.bar(figsize = (16,8),title = 'Number Of Terrorist Activities Each Year' , xlabel = 'Year' , ylabel = \"Number of Attacks each year\" , color = \"orange\")\n",
    "plt.xticks(rotation = 65)\n",
    "plt.show()"
   ]
  },
  {
   "cell_type": "markdown",
   "metadata": {},
   "source": [
    "### The heighest level of terrorism occurred in 2014 , 2015 , 2016"
   ]
  },
  {
   "cell_type": "markdown",
   "metadata": {},
   "source": [
    "## Finding the wepon type used for the attack in 2014"
   ]
  },
  {
   "cell_type": "code",
   "execution_count": null,
   "metadata": {},
   "outputs": [],
   "source": [
    "data = data.replace(\"Vehicle (not to include vehicle-borne explosives, i.e., car or truck bombs)\" , \"Vehicle\")\n",
    "\n",
    "weapon_type_used_in_2014 = data[data[\"Year\"]==2014][\"Weapon_type\"].value_counts()\n",
    "weapon_type_used_in_2014"
   ]
  },
  {
   "cell_type": "markdown",
   "metadata": {},
   "source": [
    "### In 2014 the most explosive material was used to carry out terrorism"
   ]
  },
  {
   "cell_type": "markdown",
   "metadata": {},
   "source": [
    "### Top 10 Terrorist Group attacks"
   ]
  },
  {
   "cell_type": "code",
   "execution_count": null,
   "metadata": {},
   "outputs": [],
   "source": [
    "data['Group'].value_counts().to_frame().drop('Unknown').head(10).plot(kind='bar',color='grey',figsize=(10,6))\n",
    "plt.title(\"Top 10 terrorist group attack\")\n",
    "plt.xlabel(\"terrorist group name\")\n",
    "plt.ylabel(\"Attack number\")\n",
    "plt.show()\n"
   ]
  },
  {
   "cell_type": "markdown",
   "metadata": {},
   "source": [
    "#### Group with most attack is Taliban"
   ]
  },
  {
   "cell_type": "markdown",
   "metadata": {},
   "source": [
    "###  The country most affected by the terrorist attack in 2014."
   ]
  },
  {
   "cell_type": "code",
   "execution_count": null,
   "metadata": {},
   "outputs": [],
   "source": [
    "most_effect_country_2014 = data[data[\"Year\"]==2014][\"Country\"].value_counts().head(15)\n",
    "most_effect_country_2014.plot.bar(figsize = (10,6) , title = ('Most Affected Countries IN 2014 Attacks') , xlabel = 'Country',color='Blue')\n",
    "plt.ylabel(\"No of Attacks\")\n",
    "plt.show()"
   ]
  },
  {
   "cell_type": "markdown",
   "metadata": {},
   "source": [
    "#### Iraq , Pakistan , Afghanistan is the country most affected by the terrorist attack in 2014."
   ]
  },
  {
   "cell_type": "markdown",
   "metadata": {},
   "source": [
    "## Terrorist Activities Region Wise Each Year."
   ]
  },
  {
   "cell_type": "code",
   "execution_count": null,
   "metadata": {},
   "outputs": [],
   "source": [
    "pd.crosstab(data.Year,data.Region).plot(kind='area',figsize=(15,6))\n",
    "plt.xlabel('year')\n",
    "plt.title('Terrorist Activity region wise')\n",
    "plt.ylabel('no of attacks')\n",
    "plt.show()"
   ]
  },
  {
   "cell_type": "markdown",
   "metadata": {},
   "source": [
    "#### Middle East & North Africa and South Asia shows the highest terrorist attack"
   ]
  },
  {
   "cell_type": "markdown",
   "metadata": {},
   "source": [
    "# Attack types"
   ]
  },
  {
   "cell_type": "code",
   "execution_count": null,
   "metadata": {},
   "outputs": [],
   "source": [
    "att_typ = data[\"AttackType\"].value_counts()\n",
    "att_typ.plot.bar(figsize = (10,6) , title = \"Attack_Types\" , xlabel = 'Attack' , ylabel = 'No of Attack')"
   ]
  },
  {
   "cell_type": "markdown",
   "metadata": {},
   "source": [
    "#### Bombing/Explosion are high i attack types"
   ]
  },
  {
   "cell_type": "markdown",
   "metadata": {},
   "source": [
    "## Country Who suffered the most Casualties "
   ]
  },
  {
   "cell_type": "code",
   "execution_count": null,
   "metadata": {},
   "outputs": [],
   "source": [
    "data['Casualties'] = data['Killed'] + data['Wounded']\n",
    "data[\"Casualties\"] = data[\"Casualties\"].astype(int)"
   ]
  },
  {
   "cell_type": "code",
   "execution_count": null,
   "metadata": {},
   "outputs": [],
   "source": [
    "data.groupby(\"Country\")[\"Casualties\"].sum().sort_values(ascending = False).head(10)"
   ]
  },
  {
   "cell_type": "code",
   "execution_count": null,
   "metadata": {},
   "outputs": [],
   "source": [
    "top_casual = data.groupby(\"Country\")[\"Casualties\"].sum().to_frame().reset_index().sort_values(\"Casualties\", ascending=False).head(25)\n",
    "px.bar(data_frame=top_casual , x = \"Country\" , y = 'Casualties' ,color='Country',template='plotly_dark')"
   ]
  },
  {
   "cell_type": "markdown",
   "metadata": {},
   "source": [
    "#### Again Iraq , Pakistan , Afghanistan is the country Who suffered the most casualities"
   ]
  },
  {
   "cell_type": "markdown",
   "metadata": {},
   "source": [
    "# Terrorist Attacks from 1970 to 2017 World wide "
   ]
  },
  {
   "cell_type": "code",
   "execution_count": null,
   "metadata": {},
   "outputs": [],
   "source": [
    "casualties=data.loc[:,\"Casualties\"].sum()\n",
    "kill=data.loc[:,\"Killed\"].sum()\n",
    "wound=data.loc[:,\"Wounded\"].sum()\n",
    "print(\"Total number of Casualties due to Terrorist Attacks  :\",casualties)\n",
    "print(\"Total number of Kill Rate due to Terrorist Attacks  :\",kill)\n",
    "print(\"Total number of wound due to Terrorist Attacks  :\",wound)"
   ]
  },
  {
   "cell_type": "markdown",
   "metadata": {},
   "source": [
    "## Conclusion.\n",
    "#####  1 Country with the most attacks: Iraq\n",
    "#####   2 City with the most attacks: Baghdad\n",
    "#####   3 Region with the most attacks: Middle East & North Africa\n",
    "#####   4 Year with the most attacks: 2014\n",
    "#####   5 Group with the most attacks: Taliban\n",
    "#####   6 Most Attack Types: Bombing/Explosion"
   ]
  },
  {
   "cell_type": "markdown",
   "metadata": {},
   "source": [
    "# Thank you"
   ]
  },
  {
   "cell_type": "code",
   "execution_count": null,
   "metadata": {},
   "outputs": [],
   "source": []
  }
 ],
 "metadata": {
  "kernelspec": {
   "display_name": "Python 3",
   "language": "python",
   "name": "python3"
  },
  "language_info": {
   "codemirror_mode": {
    "name": "ipython",
    "version": 3
   },
   "file_extension": ".py",
   "mimetype": "text/x-python",
   "name": "python",
   "nbconvert_exporter": "python",
   "pygments_lexer": "ipython3",
   "version": "3.8.5"
  }
 },
 "nbformat": 4,
 "nbformat_minor": 4
}
